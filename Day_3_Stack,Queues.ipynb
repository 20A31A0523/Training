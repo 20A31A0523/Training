{
  "cells": [
    {
      "cell_type": "markdown",
      "metadata": {
        "id": "view-in-github",
        "colab_type": "text"
      },
      "source": [
        "<a href=\"https://colab.research.google.com/github/20A31A0523/Training/blob/main/Day_3_Stack%2CQueues.ipynb\" target=\"_parent\"><img src=\"https://colab.research.google.com/assets/colab-badge.svg\" alt=\"Open In Colab\"/></a>"
      ]
    },
    {
      "cell_type": "markdown",
      "metadata": {
        "id": "cjYQJ--sjuEV"
      },
      "source": [
        "# stack\n",
        "\n",
        "can be implemented in 3 ways\n",
        " 1. list\n",
        " 2. linked list\n",
        " 3. queue\n",
        "\n",
        "\n",
        " # operations of stack\n",
        "  1. push\n",
        "  2. pop\n",
        "  3. peek or top\n",
        "  4. empty or full"
      ]
    },
    {
      "cell_type": "markdown",
      "metadata": {
        "id": "JGsK0_-dmbXO"
      },
      "source": [
        "**--> STACK IMPLEMENTATION USING LIST**"
      ]
    },
    {
      "cell_type": "code",
      "execution_count": null,
      "metadata": {
        "colab": {
          "base_uri": "https://localhost:8080/"
        },
        "id": "dQkS8M3ZmmM_",
        "outputId": "2c86c8bd-c52e-45e1-801e-631abbaa06af"
      },
      "outputs": [
        {
          "name": "stdout",
          "output_type": "stream",
          "text": [
            "enter the operation --> 1.push 2.pop 3.quit\n",
            "1\n",
            "enter the element to push:7\n",
            "7\n",
            "enter the operation --> 1.push 2.pop 3.quit\n",
            "1\n",
            "enter the element to push:14\n",
            "14\n",
            "enter the operation --> 1.push 2.pop 3.quit\n",
            "1\n",
            "enter the element to push:36\n",
            "36\n",
            "enter the operation --> 1.push 2.pop 3.quit\n",
            "2\n",
            "removed element: 36\n",
            "[7, 14]\n",
            "enter the operation --> 1.push 2.pop 3.quit\n",
            "3\n"
          ]
        }
      ],
      "source": [
        "#STACK IMPLEMENTATION USING LIST\n",
        "stack=[]\n",
        "def push():\n",
        "  element=int(input(\"enter the element to push:\"))\n",
        "  stack.append(element)\n",
        "  print(element)\n",
        "def pop_element():\n",
        "  if not stack:\n",
        "    print(\"stack is empty\")\n",
        "  else:\n",
        "    e=stack.pop()\n",
        "    print(\"removed element:\",e)\n",
        "    print(stack)\n",
        "while True:\n",
        "  print(\"enter the operation --> 1.push 2.pop 3.quit\")\n",
        "  choice=int(input())\n",
        "  if choice==1:\n",
        "    push()\n",
        "  elif choice==2:\n",
        "    pop_element()\n",
        "  elif choice==3:\n",
        "    break\n",
        "  else:\n",
        "    print(\"enter the correct operation:\")"
      ]
    },
    {
      "cell_type": "markdown",
      "metadata": {
        "id": "QcqJUEMKsh6f"
      },
      "source": [
        "-**-> STACK IMPLEMENTATION USING LINKED LIST**\n",
        " 1. Push is inserting node at beginning\n",
        " 2. Pop is removing the head node"
      ]
    },
    {
      "cell_type": "code",
      "execution_count": null,
      "metadata": {
        "colab": {
          "base_uri": "https://localhost:8080/"
        },
        "id": "Jsxdb6nZtje_",
        "outputId": "188c9c3a-a32b-4b88-c14c-086a227c76d4"
      },
      "outputs": [
        {
          "name": "stdout",
          "output_type": "stream",
          "text": [
            "36 ==> 43 ==> 14 ==> 7  \n",
            "peek 36\n",
            "14 ==> 7  \n",
            "peek 14\n"
          ]
        }
      ],
      "source": [
        "#stack implementation using linked list\n",
        "class Node:\n",
        "  def __init__(self,data):\n",
        "    self.data=data\n",
        "    self.next=None\n",
        "class stack:\n",
        "  def __init__(self):\n",
        "    self.head=None\n",
        "  def isempty(self):\n",
        "    if self.head==None:\n",
        "      return True\n",
        "    else:\n",
        "      return False\n",
        "  def push(self,data):\n",
        "    if self.head==None:\n",
        "      self.head=Node(data)\n",
        "    else:\n",
        "      newnode=Node(data)\n",
        "      newnode.next=self.head\n",
        "      self.head=newnode\n",
        "  def pop(self): \n",
        "    if self.isempty(): \n",
        "       return None\n",
        "    else:\n",
        "       poppednode=self.head\n",
        "       self.head=self.head.next\n",
        "       poppednode.next=Node\n",
        "       return poppednode.data\n",
        "  def peek(self):\n",
        "    if self.isempty():\n",
        "       return None\n",
        "    else:\n",
        "      return self.head.data\n",
        "  def display(self):\n",
        "    temp=self.head\n",
        "    if self.isempty():\n",
        "       print(\"stack underflow\")\n",
        "    else:\n",
        "       while(temp!=None):\n",
        "         print(temp.data,end=\" \")\n",
        "         temp=temp.next\n",
        "         if(temp!=None):\n",
        "            print(\"==>\",end=\" \")\n",
        "       return\n",
        "if __name__==\"__main__\":\n",
        "  s=stack()\n",
        "  s.push(7)\n",
        "  s.push(14)\n",
        "  s.push(43)\n",
        "  s.push(36)\n",
        "  s.display()\n",
        "  print(\" \")\n",
        "  print(\"peek\",s.peek())\n",
        "  s.pop()\n",
        "  s.pop()\n",
        "  s.display()\n",
        "  print(\" \")\n",
        "  print(\"peek\",s.peek())"
      ]
    },
    {
      "cell_type": "markdown",
      "metadata": {
        "id": "zkL_aP_I7ULw"
      },
      "source": [
        "**--> STACK IMPLEMENTATION USING QUEUE**"
      ]
    },
    {
      "cell_type": "code",
      "execution_count": null,
      "metadata": {
        "colab": {
          "base_uri": "https://localhost:8080/"
        },
        "id": "tAe0cnHn7bGY",
        "outputId": "05d73305-8275-4df7-a609-84dc3b36d45e"
      },
      "outputs": [
        {
          "name": "stdout",
          "output_type": "stream",
          "text": [
            "initial size of stack: 0\n",
            "True\n",
            "size of stack after pushing elements= 3\n",
            "u\n",
            "o\n",
            "m\n",
            "True\n"
          ]
        }
      ],
      "source": [
        "#STACK IMPLEMENTATION USUNG QUEUE\n",
        "from queue import LifoQueue\n",
        "s=LifoQueue(maxsize=3)\n",
        "print(\"initial size of stack:\",s.qsize())\n",
        "s.put('m')                                                   #put() is a builtin function used as push()\n",
        "s.put('o')\n",
        "s.put('u')\n",
        "print(s.full())                                              #returns true if the stack is full otherwise false\n",
        "print(\"size of stack after pushing elements=\",s.qsize())\n",
        "print(s.get())                                               #get() is inbuilt function same as pop()\n",
        "print(s.get())\n",
        "print(s.get())\n",
        "print(s.empty())"
      ]
    },
    {
      "cell_type": "markdown",
      "metadata": {
        "id": "kvQvGajx9kSv"
      },
      "source": [
        "**QUEUES**\n",
        "\n",
        "first in first out (FIFO)\n",
        "\n",
        "### --> QUEUE IMPLEMENTATION USING LIST "
      ]
    },
    {
      "cell_type": "code",
      "execution_count": null,
      "metadata": {
        "colab": {
          "base_uri": "https://localhost:8080/"
        },
        "id": "cOnRsbi_92YQ",
        "outputId": "b618e501-7ebc-4aa2-a85a-60df4c398b62"
      },
      "outputs": [
        {
          "name": "stdout",
          "output_type": "stream",
          "text": [
            "select operation 1.enqueue 2.dequeue 3.show 4.quit\n",
            "enter your choice:1\n",
            "enter element:7\n",
            "7 is added in q\n",
            "select operation 1.enqueue 2.dequeue 3.show 4.quit\n",
            "enter your choice:1\n",
            "enter element:14\n",
            "14 is added in q\n",
            "select operation 1.enqueue 2.dequeue 3.show 4.quit\n",
            "enter your choice:3\n",
            "['7', '14']\n",
            "select operation 1.enqueue 2.dequeue 3.show 4.quit\n",
            "enter your choice:4\n"
          ]
        }
      ],
      "source": [
        "#QUEUE IMPLEMENTATION USING LIST\n",
        "queue=[]\n",
        "def enqueue():\n",
        "  element=input(\"enter element:\")\n",
        "  queue.append(element)\n",
        "  print(element,\"is added in q\")\n",
        "def dequeue():\n",
        "  if not queue:\n",
        "    print(\"queue is empty:\")\n",
        "  else:\n",
        "    e=queue.pop(0)\n",
        "    print(e,\"is removed\")\n",
        "def display():\n",
        "  print(queue)\n",
        "while True:\n",
        "  print(\"select operation 1.enqueue 2.dequeue 3.show 4.quit\")\n",
        "  choice=int(input(\"enter your choice:\"))\n",
        "  if choice==1:\n",
        "    enqueue()\n",
        "  elif choice==2:\n",
        "    dequeue()\n",
        "  elif choice==3:\n",
        "    display()\n",
        "  elif choice==4:\n",
        "    break\n",
        "  else:\n",
        "    print(\"please select correct operation:\")"
      ]
    },
    {
      "cell_type": "markdown",
      "metadata": {
        "id": "Kksms6XOAunh"
      },
      "source": [
        "**--> QUEUE IMPLEMENTATION USING QUEUE MODULE**"
      ]
    },
    {
      "cell_type": "code",
      "execution_count": null,
      "metadata": {
        "colab": {
          "base_uri": "https://localhost:8080/"
        },
        "id": "VW_S-BunA-AA",
        "outputId": "92c6995c-2b87-413f-ed6b-00977ccb906c"
      },
      "outputs": [
        {
          "name": "stdout",
          "output_type": "stream",
          "text": [
            "<class 'queue.Queue'>\n",
            "7\n",
            "14\n"
          ]
        }
      ],
      "source": [
        "#QUEUE IMPLEMENTATION USING QUEUE MODULE\n",
        "import queue \n",
        "L=queue.Queue(maxsize=5)\n",
        "L.put(7)\n",
        "L.put(14)\n",
        "print(type(L))\n",
        "print(L.get())\n",
        "print(L.get())"
      ]
    },
    {
      "cell_type": "markdown",
      "metadata": {
        "id": "WKhjcq1JCkdI"
      },
      "source": [
        "**###PUZZLE**\n",
        "\n",
        "CREATE TWO STACKS & DEFINE STACK SIZE OF BOTH STACKS AS 5\n",
        "\n",
        "conditions:\n",
        "\n",
        "\n",
        "\n",
        "*   if your input is even numbers it has to be pushed\n",
        "*   in stack_1 and other inputs has to be pushed\n",
        "\n",
        "\n",
        "\n",
        "*   in stack_2\n",
        "*   options: push/pop/display_stack/quit\n",
        "\n"
      ]
    },
    {
      "cell_type": "code",
      "execution_count": null,
      "metadata": {
        "colab": {
          "background_save": true,
          "base_uri": "https://localhost:8080/"
        },
        "id": "OWHiYcDvYq5I",
        "outputId": "96ea159b-5871-4c8b-a122-0621dce1b645"
      },
      "outputs": [
        {
          "name": "stdout",
          "output_type": "stream",
          "text": [
            "select operations-> 1.push 2.pop 3.show 4.quit\n",
            "enter the correct operation:\n",
            "select operations-> 1.push 2.pop 3.show 4.quit\n",
            "enter the correct operation:\n",
            "select operations-> 1.push 2.pop 3.show 4.quit\n",
            "enter valid number:\n",
            "select operations-> 1.push 2.pop 3.show 4.quit\n"
          ]
        }
      ],
      "source": [
        "from queue import LifoQueue\n",
        "stack_1=[]\n",
        "stack_2=[]\n",
        "s1=LifoQueue(maxsize=5)\n",
        "s2=LifoQueue(maxsize=5)\n",
        "def push():\n",
        "  element=int(input(\"enter the element to push:\"))\n",
        "  if element%2==0:\n",
        "    stack_1.append(element)\n",
        "    print(\"stack1 consists of:\",stack_1)\n",
        "  else:\n",
        "    stack_2.append(element)\n",
        "    print(\"stack2 consists of:\",stack_2)\n",
        "def pop_element():\n",
        "  if not stack_1 and stack_2:\n",
        "    print(\"stack is empty\")\n",
        "  else:\n",
        "    \n",
        "    no=int(input(\"enter choice:\"))\n",
        "    if no==1:\n",
        "      e1=stack_1.pop()\n",
        "      print(\"removed element:\",e1)\n",
        "      print(\"stack_1 consists of:\",stack_1)\n",
        "    elif no==2:\n",
        "      e2=stack_2.pop()\n",
        "      print(\"removed element:\",e2)\n",
        "      print(\"stack_1 consists of:\",stack_2)\n",
        "    else:\n",
        "      print(\"enter valid number:\")\n",
        "def display():\n",
        "  choice=int(input(\"enter your stack number to display:\"))\n",
        "  if choice==1:\n",
        "     print(\"stack_1 is:\",stack_1)\n",
        "  elif choice==2:\n",
        "     print(\"stack_2:\",stack_2)\n",
        "while True:\n",
        "  print(\"select operations-> 1.push 2.pop 3.show 4.quit\")\n",
        "  choice=int(input(\"enter your choice\"))\n",
        "  choice=int(input())\n",
        "  if choice==1:\n",
        "    push()\n",
        "  elif choice==2:\n",
        "    pop_element()\n",
        "  elif choice==3:\n",
        "    display()\n",
        "  elif choice==4:\n",
        "    break\n",
        "  else:\n",
        "    print(\"enter the correct operation:\")"
      ]
    },
    {
      "cell_type": "code",
      "execution_count": null,
      "metadata": {
        "colab": {
          "base_uri": "https://localhost:8080/"
        },
        "id": "6HUo88Jdjfi6",
        "outputId": "0b0f3c64-cf52-4d93-bb4a-2b422c7fea43"
      },
      "outputs": [
        {
          "name": "stdout",
          "output_type": "stream",
          "text": [
            "select operations-> 1.push 2.pop 3.show 4.quit\n",
            "1\n",
            "enter the element:1\n",
            "enter the element:22\n",
            "enter the element:23\n",
            "enter the element:26\n",
            "enter the element:14\n",
            "select operations-> 1.push 2.pop 3.show 4.quit\n",
            "2\n",
            "1 or 21\n",
            "removed element: 14\n",
            "[22, 26]\n",
            "select operations-> 1.push 2.pop 3.show 4.quit\n",
            "2\n",
            "1 or 22\n",
            "removed element: 23\n",
            "[1]\n",
            "select operations-> 1.push 2.pop 3.show 4.quit\n",
            "4\n"
          ]
        }
      ],
      "source": [
        "# another way to write the program\n",
        "stack_1=[]\n",
        "stack_2=[]\n",
        "def push():\n",
        "  for i in range(5):\n",
        "    element=int(input(\"enter the element:\"))\n",
        "    if(element%2==0):\n",
        "      stack_1.append(element)\n",
        "    else:\n",
        "      stack_2.append(element)\n",
        "def pop_element():\n",
        "  pop_what=input(\"1 or 2\")\n",
        "  if pop_what==\"1\":\n",
        "    if not stack_1:\n",
        "      print(\"stack is empty\")\n",
        "    else:\n",
        "      e=stack_1.pop()\n",
        "      print(\"removed element:\",e)\n",
        "      print(stack_1)\n",
        "  else:\n",
        "    if not stack_2:\n",
        "      print(\"stack is empty:\")\n",
        "    else:\n",
        "      e=stack_2.pop()\n",
        "      print(\"removed element:\",e)\n",
        "      print(stack_2)\n",
        "def display():\n",
        "  what=input(\"1 or 2\")\n",
        "  if what==\"1\":\n",
        "    print(stack_1)\n",
        "  else:\n",
        "    print(stack_2)\n",
        "while True:\n",
        "  print(\"select operations-> 1.push 2.pop 3.show 4.quit\")\n",
        "  choice=int(input())\n",
        "  if choice==1:\n",
        "    push()\n",
        "  elif choice==2:\n",
        "    pop_element()\n",
        "  elif choice==3:\n",
        "    display()\n",
        "  elif choice==4:\n",
        "    break\n",
        "  else:\n",
        "    print(\"enter the correct operation:\")"
      ]
    },
    {
      "cell_type": "markdown",
      "metadata": {
        "id": "_XQsvkYwoyxx"
      },
      "source": [
        "**--> QUEUE IMPLEMENTATION USING LINKED LIST**"
      ]
    },
    {
      "cell_type": "code",
      "execution_count": null,
      "metadata": {
        "colab": {
          "base_uri": "https://localhost:8080/"
        },
        "id": "ke2mE2F_pLRJ",
        "outputId": "c19917bb-7f3a-403a-bc4f-1aafd36d1487"
      },
      "outputs": [
        {
          "name": "stdout",
          "output_type": "stream",
          "text": [
            "enqueue <value>\n",
            "dequeue\n",
            "quit\n",
            "what would you like to do?enqueue 14\n",
            "enqueue <value>\n",
            "dequeue\n",
            "quit\n",
            "what would you like to do?enqueue 7\n",
            "enqueue <value>\n",
            "dequeue\n",
            "quit\n",
            "what would you like to do?dequeue\n",
            "dequeued element 14\n",
            "enqueue <value>\n",
            "dequeue\n",
            "quit\n",
            "what would you like to do?quit\n"
          ]
        }
      ],
      "source": [
        "#QUEUE IMPLEMENTATION USING LINKED LIST\n",
        "class Node:\n",
        "  def __init__(self,data):\n",
        "    self.data=data\n",
        "    self.next=None\n",
        "class Queue:\n",
        "  def __init__(self):\n",
        "    self.head=None\n",
        "    self.last=None\n",
        "  def enqueue(self,data):\n",
        "    if self.last is None:\n",
        "      self.head=Node(data)\n",
        "      self.last=self.head\n",
        "    else:\n",
        "      self.last.next=Node(data)\n",
        "      self.last=self.last.next\n",
        "  def dequeue(self):\n",
        "    if self.head is None:\n",
        "      return Node\n",
        "    else:\n",
        "      to_return=self.head.data\n",
        "      self.head=self.head.next\n",
        "      return to_return\n",
        "a_queue=Queue()\n",
        "while True:\n",
        "  print('enqueue <value>')\n",
        "  print('dequeue')\n",
        "  print('quit')                                    #by using split, do will become a list,split\n",
        "  do=input('what would you like to do?').split()   #works with string\n",
        "  operation=do[0].strip().lower()\n",
        "  if operation=='enqueue':\n",
        "    a_queue.enqueue(int(do[1]))\n",
        "  elif operation=='dequeue':\n",
        "    dequeued=a_queue.dequeue()\n",
        "    if dequeued is None:\n",
        "      print('queue is empty')\n",
        "    else:\n",
        "      print('dequeued element',int(dequeued))\n",
        "  elif operation=='quit':\n",
        "    break"
      ]
    },
    {
      "cell_type": "markdown",
      "metadata": {
        "id": "pi2oHtgwvfyZ"
      },
      "source": [
        "# **TYPES OF QUEUES**\n",
        "\n",
        "1.circular queue\n",
        "\n",
        "2.priority queue"
      ]
    },
    {
      "cell_type": "markdown",
      "metadata": {
        "id": "1_HfmBJlxXdi"
      },
      "source": [
        "**Priority Queue**:\n",
        "\n",
        "Though elements are in queue as per in the priority given to the elements will get privilage to pop from the queue.\n",
        "\n",
        "**Circular Queue:**\n",
        "\n",
        "Empty spaces in the queue can be used ,once the queue is full,still want to add elements in a circular way."
      ]
    },
    {
      "cell_type": "markdown",
      "metadata": {
        "id": "z7WBuCH40Sxp"
      },
      "source": [
        "# **CIRCULAR QUEUE**\n",
        "\n",
        "**STEP-1:** front,rare=-1\n",
        "\n",
        "**STEP-2:** while inserting increase the front , front=front+1"
      ]
    }
  ],
  "metadata": {
    "colab": {
      "provenance": [],
      "authorship_tag": "ABX9TyPMZicpYAjjUMPzOGCHSLbl",
      "include_colab_link": true
    },
    "kernelspec": {
      "display_name": "Python 3",
      "name": "python3"
    },
    "language_info": {
      "name": "python"
    }
  },
  "nbformat": 4,
  "nbformat_minor": 0
}