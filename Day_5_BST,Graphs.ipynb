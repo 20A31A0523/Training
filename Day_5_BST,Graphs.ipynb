{
  "nbformat": 4,
  "nbformat_minor": 0,
  "metadata": {
    "colab": {
      "provenance": [],
      "authorship_tag": "ABX9TyOGHm0pTEXxqAScAUckJAd6",
      "include_colab_link": true
    },
    "kernelspec": {
      "name": "python3",
      "display_name": "Python 3"
    },
    "language_info": {
      "name": "python"
    }
  },
  "cells": [
    {
      "cell_type": "markdown",
      "metadata": {
        "id": "view-in-github",
        "colab_type": "text"
      },
      "source": [
        "<a href=\"https://colab.research.google.com/github/20A31A0523/Training/blob/main/Day_5_BST%2CGraphs.ipynb\" target=\"_parent\"><img src=\"https://colab.research.google.com/assets/colab-badge.svg\" alt=\"Open In Colab\"/></a>"
      ]
    },
    {
      "cell_type": "markdown",
      "source": [
        "**DICTIONARY(FOREST OF 3 TREES)**"
      ],
      "metadata": {
        "id": "ZldCuA8pyNyp"
      }
    },
    {
      "cell_type": "code",
      "source": [
        "#DICTIONARY(FOREST OF 3 TREES)\n",
        "Families={\n",
        "    'charley':\n",
        "         {'sam':{'boxy','rosy'},'nila':{'pepsi'}},\n",
        "    'devi':\n",
        "         {'tommy':{'tony'},'timmy':{'hamster'},'tammy':{'hamster'}},\n",
        "    'charlos':\n",
        "         {'diego':'cat','ferret':'fox'}\n",
        "}\n",
        "for parent,children in Families.items():\n",
        "  print(f\"{parent} has {len(children)}kid(s):\")\n",
        "  print(f\"{',and'.join([str(child) for child in [*children]])}\")            #.join is used to concatenate strings"
      ],
      "metadata": {
        "colab": {
          "base_uri": "https://localhost:8080/"
        },
        "id": "SPDd1qHjyX6D",
        "outputId": "b4dbc4f2-3bdb-4b29-83c1-3e4f1621ee96"
      },
      "execution_count": null,
      "outputs": [
        {
          "output_type": "stream",
          "name": "stdout",
          "text": [
            "charley has 2kid(s):\n",
            "sam,andnila\n",
            "devi has 3kid(s):\n",
            "tommy,andtimmy,andtammy\n",
            "charlos has 2kid(s):\n",
            "diego,andferret\n"
          ]
        }
      ]
    },
    {
      "cell_type": "markdown",
      "source": [
        "**-->BINARY SEARCH TREE**\n",
        "\n",
        "\n",
        "500, 0, 69, 52, 36, 5, 55, 250, 30, 20, 10, 400, 68, 159, 165\n",
        "\n",
        "\n",
        "751, 150, 7, 8, -100, -53, 5000, 64, 10, 11, 12, 13, 14, 15, -10, -20"
      ],
      "metadata": {
        "id": "mMBY2nCU5wm0"
      }
    },
    {
      "cell_type": "markdown",
      "source": [
        "**-->BINARY SEARCH TREE IMPLEMENTATION**"
      ],
      "metadata": {
        "id": "GCvAuQmYB2os"
      }
    },
    {
      "cell_type": "code",
      "source": [
        "#BINARY SEARCH TREE IMPLEMENTATION\n",
        "class Node:\n",
        "  def __init__(self,key):\n",
        "    self.left=None\n",
        "    self.right=None\n",
        "    self.val=key\n",
        "def insert(root,key):\n",
        "  if root is None:\n",
        "    return Node(key)\n",
        "  else:\n",
        "    if root.val==key:\n",
        "      return root\n",
        "    elif root.val<key:\n",
        "      root.right=insert(root.right,key)\n",
        "    else:\n",
        "      root.left=insert(root.left,key)\n",
        "  return root\n",
        "#inorder traversal\n",
        "def inorder(root):\n",
        "  if root:\n",
        "    inorder(root.left)\n",
        "    print(root.val)\n",
        "    inorder(root.right)\n",
        "r=Node(50)\n",
        "r=insert(r, 30)\n",
        "r=insert(r, 20)\n",
        "r=insert(r, 40)\n",
        "r=insert(r, 70)\n",
        "r=insert(r, 60)\n",
        "r=insert(r, 80)\n",
        "inorder(r)"
      ],
      "metadata": {
        "colab": {
          "base_uri": "https://localhost:8080/"
        },
        "id": "qWfKWdxQB-KC",
        "outputId": "fcc17ea2-b38b-454c-fca4-16ce630ff6d5"
      },
      "execution_count": null,
      "outputs": [
        {
          "output_type": "stream",
          "name": "stdout",
          "text": [
            "20\n",
            "30\n",
            "40\n",
            "50\n",
            "60\n",
            "70\n",
            "80\n"
          ]
        }
      ]
    },
    {
      "cell_type": "markdown",
      "source": [
        "**-->DELETE OPERATION IN BST:**\n",
        "\n",
        "    There are 3 cases\n",
        "      1. deleting a node which has no children\n",
        "      2. deleting a node which has 1 child\n",
        "      3. deleting a node which has 2 children\n",
        "\n",
        "\n",
        "          * In the first case u can directly delete the node\n",
        "          * In the second case replace the node which needs to be deleted with its child\n",
        "          * Select inorder predecessor from left side or inorder successor from right and replace the nodes to be deleted with them\n",
        "\n",
        "* INORDER_PREDECESSOR:  It's in left side ,biggest number among other nodes.\n",
        "\n",
        "* INORDER_SUCCESSOR:  It's at right side, smallest number among other nodes."
      ],
      "metadata": {
        "id": "A5CMXXf5IQvV"
      }
    },
    {
      "cell_type": "markdown",
      "source": [
        "##STEPS FOR BST DELETION\n",
        "\n",
        "    STEP-1:\n",
        "\n",
        "    *  Create BST\n",
        "        * Do insertion\n",
        "\n",
        "    STEP-2:\n",
        "\n",
        "    *  Search node you want to delete is present in tree or not\n",
        "        * how?\n",
        "        * compare with root and keep checking left or right\n",
        "\n",
        "    STEP-3:\n",
        "\n",
        "    *  Once you locate the node,\n",
        "      check the node comes under which case\n",
        "         1.leaf node\n",
        "         2.node with 1 child\n",
        "         3.node with 2 children\n",
        "\n",
        "    STEP-4:\n",
        "\n",
        "    *  If the case is 3\n",
        "    *  Findout the Inorder_predeccesor or Inorder_successdor\n",
        "\n",
        "    STEP-5:\n",
        "\n",
        "    *  To findout Inorder_successdor\n",
        "       * it will be at right\n",
        "       * so it will be replaced"
      ],
      "metadata": {
        "id": "7zGv0Mwzs-rH"
      }
    },
    {
      "cell_type": "code",
      "source": [
        "#BST DELETION\n",
        "class Node:\n",
        "  def __init__(self,key):\n",
        "    self.key=key\n",
        "    self.left=None\n",
        "    self.right=None\n",
        "def inorder(root):\n",
        "  if root is not None:\n",
        "    inorder(root.left)\n",
        "    print(root.key)\n",
        "    inorder(root.right)\n",
        "def insert(node,key):\n",
        "  if node is None:\n",
        "    return Node(key)\n",
        "  if key<node.key:\n",
        "    node.left=insert(node.left,key)\n",
        "  else:\n",
        "    node.right=insert(node.right,key)\n",
        "  return node\n",
        "def minvalueNode(node):\n",
        "  current=node\n",
        "  while(current.left is not None):\n",
        "    current=current.left\n",
        "  return current\n",
        "def deleteNode(root,key):\n",
        "  if root is None:\n",
        "    return root\n",
        "  if key<root.key:\n",
        "    root.left=deleteNode(root.left,key)\n",
        "  elif(key>root.key):\n",
        "    root.right=deleteNode(root.right,key)\n",
        "  else:\n",
        "    if root.left is None:\n",
        "      temp=root.right\n",
        "      root=None\n",
        "      return temp\n",
        "    elif root.right is None:\n",
        "      temp=root.left\n",
        "      root=None\n",
        "      return temp\n",
        "    temp=minvalueNode(root.right)\n",
        "    root.key=temp.key\n",
        "    root.right=deleteNode(root.right,temp.key)\n",
        "  return root\n",
        "root=None\n",
        "root=insert(root,50)\n",
        "root=insert(root,30)\n",
        "root=insert(root,20)\n",
        "root=insert(root,40)\n",
        "root=insert(root,70)\n",
        "root=insert(root,60)\n",
        "root=insert(root,80)\n",
        "print(\"Inorder traversal of given root\")\n",
        "inorder(root)\n",
        "print(\"\\nDelete 20\")\n",
        "root=deleteNode(root,20)\n",
        "print(\"Inorder traversal of modified tree\")\n",
        "inorder(root)\n",
        "print(\"\\nDelete 30\")\n",
        "root=deleteNode(root,30)\n",
        "print(\"Inorder traversal of modified tree\")\n",
        "inorder(root)\n",
        "print(\"\\nDelete 50\")\n",
        "root=deleteNode(root,50)\n",
        "print(\"Inorder traversal of modified tree\")\n",
        "inorder(root)"
      ],
      "metadata": {
        "id": "pb8A747CPz-y",
        "colab": {
          "base_uri": "https://localhost:8080/"
        },
        "outputId": "ad2f9e13-bf6e-48c8-999d-e3a8bf88c388"
      },
      "execution_count": null,
      "outputs": [
        {
          "output_type": "stream",
          "name": "stdout",
          "text": [
            "Inorder traversal of given root\n",
            "20\n",
            "30\n",
            "40\n",
            "50\n",
            "60\n",
            "70\n",
            "80\n",
            "\n",
            "Delete 20\n",
            "Inorder traversal of modified tree\n",
            "30\n",
            "40\n",
            "50\n",
            "60\n",
            "70\n",
            "80\n",
            "\n",
            "Delete 30\n",
            "Inorder traversal of modified tree\n",
            "40\n",
            "50\n",
            "60\n",
            "70\n",
            "80\n",
            "\n",
            "Delete 50\n",
            "Inorder traversal of modified tree\n",
            "40\n",
            "60\n",
            "70\n",
            "80\n"
          ]
        }
      ]
    },
    {
      "cell_type": "markdown",
      "source": [
        "**-->BST SEARCH**"
      ],
      "metadata": {
        "id": "ZvyQQeOPvzz2"
      }
    },
    {
      "cell_type": "code",
      "source": [
        "#BST SEARCH\n",
        "def search(root,key):\n",
        "   def __init__(self,key):\n",
        "    self.left=None\n",
        "    self.right=None\n",
        "    self.val=key\n",
        "def insert(root,key):\n",
        "  if root is None:\n",
        "    return Node(key)\n",
        "  else:\n",
        "    if root.val==key:\n",
        "      return root\n",
        "    elif root.val<key:\n",
        "      root.right=insert(root.right,key)\n",
        "    else:\n",
        "      root.left=insert(root.left,key)\n",
        "  return root\n",
        "def inorder(root):\n",
        "  if root:\n",
        "    inorder(root.left)\n",
        "    print(root.val)\n",
        "    inorder(root.right)\n",
        "def search\n",
        "  if root is None or root.val==key:\n",
        "    return root\n",
        "  if root.val<key:\n",
        "    return search(root.right,key)\n",
        "  return search(root.left,key)"
      ],
      "metadata": {
        "id": "luHCMBcrv5Re"
      },
      "execution_count": null,
      "outputs": []
    },
    {
      "cell_type": "markdown",
      "source": [
        "##GRAPHS\n",
        "\n",
        "  Graph has:\n",
        "\n",
        "    * vertex/vertices\n",
        "    * edges"
      ],
      "metadata": {
        "id": "CjENtuX-yKlS"
      }
    },
    {
      "cell_type": "markdown",
      "source": [
        "**##TYPES OF GRAPHS**\n",
        "\n",
        "    1. Undirected graph\n",
        "    2. Directed graph\n",
        "    3. Cyclic graph\n",
        "    4. Unweighted graph\n",
        "    5. weighted graph"
      ],
      "metadata": {
        "id": "-PPhiyRpy0BQ"
      }
    },
    {
      "cell_type": "markdown",
      "source": [
        "**-->IMPLEMENTATION OF GRAPHS USING DICTIONARY AND COLLECTION MODULE**"
      ],
      "metadata": {
        "id": "WMfIvjvs3K7A"
      }
    },
    {
      "cell_type": "code",
      "source": [
        "#IMPLEMENTATION OF GRAPHS USING DICTIONARY AND COLLECTION MODULE\n",
        "from collections import defaultdict\n",
        "graph=defaultdict(list)\n",
        "def addEdge(graph,u,v):\n",
        "  graph[u].append(v)\n",
        "def generate_edges(graph):\n",
        "  edges=[]\n",
        "  for node in graph:\n",
        "    for neighbor in graph[node]:\n",
        "      edges.append((node,neighbor))\n",
        "  return edges\n",
        "addEdge(graph,'a','c')\n",
        "addEdge(graph,'b','c')\n",
        "addEdge(graph,'b','e')\n",
        "addEdge(graph,'c','d')\n",
        "addEdge(graph,'c','e')\n",
        "addEdge(graph,'c','a')\n",
        "addEdge(graph,'c','b')\n",
        "addEdge(graph,'e','b')\n",
        "addEdge(graph,'d','c')\n",
        "addEdge(graph,'e','c')\n",
        "print(generate_edges(graph))"
      ],
      "metadata": {
        "colab": {
          "base_uri": "https://localhost:8080/"
        },
        "id": "R27wrqp73smX",
        "outputId": "1991255b-a933-4f74-80d2-aaeecc209381"
      },
      "execution_count": null,
      "outputs": [
        {
          "output_type": "stream",
          "name": "stdout",
          "text": [
            "[('a', 'c'), ('b', 'c'), ('b', 'e'), ('c', 'd'), ('c', 'e'), ('c', 'a'), ('c', 'b'), ('e', 'b'), ('e', 'c'), ('d', 'c')]\n"
          ]
        }
      ]
    },
    {
      "cell_type": "markdown",
      "source": [
        "**##REPRESENTATION OF GRAPHS**\n",
        "\n",
        "    1.list of edges\n",
        "    2.adjacency list\n",
        "    3.adjacency matrix"
      ],
      "metadata": {
        "id": "AXdhoCiu58tk"
      }
    },
    {
      "cell_type": "markdown",
      "source": [
        "**-->GRAPH TRAVERSAL**\n",
        "\n",
        "    1. BFS:\n",
        "         * In bfs we can start any node and can visit all adjacent node then select any one adjacent node, repeat the procedure\n",
        "    2. DFS:\n",
        "         * Start traversing of any node, select any one adjacent vertex and explore that vertex\n",
        "         * exploring a vertex means again select any one adjacent node for that and repeat the process"
      ],
      "metadata": {
        "id": "YPSMDZWb707h"
      }
    },
    {
      "cell_type": "markdown",
      "source": [
        "**-->IMPLEMENTATION OF BFS**"
      ],
      "metadata": {
        "id": "8x4WDmhWIS1A"
      }
    },
    {
      "cell_type": "code",
      "source": [
        "#IMPLEMENTATION OF BFS\n",
        "graph={\n",
        "    '5':['3','7'],\n",
        "    '3':['2','4'],\n",
        "    '7':['8'],\n",
        "    '2':[],\n",
        "    '4':['8'],\n",
        "    '8':[]\n",
        "}\n",
        "visited=[]\n",
        "queue=[]\n",
        "def bfs(visited,graph,node):\n",
        "  visited.append(node)\n",
        "  queue.append(node)\n",
        "  while queue:\n",
        "    m=queue.pop()\n",
        "    print(m,end=\" \")\n",
        "    for neighbor in graph[m]:\n",
        "      if neighbor not in visited:\n",
        "        visited.append(neighbor)\n",
        "        queue.append(neighbor)\n",
        "bfs(visited,graph,'5')"
      ],
      "metadata": {
        "colab": {
          "base_uri": "https://localhost:8080/"
        },
        "id": "q2fo2J0YIZvh",
        "outputId": "0289ddff-0c19-437a-da61-2a32ad6c7d38"
      },
      "execution_count": null,
      "outputs": [
        {
          "output_type": "stream",
          "name": "stdout",
          "text": [
            "5 7 8 3 4 2 "
          ]
        }
      ]
    }
  ]
}