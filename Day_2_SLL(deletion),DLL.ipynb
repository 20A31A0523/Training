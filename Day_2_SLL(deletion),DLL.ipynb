{
  "nbformat": 4,
  "nbformat_minor": 0,
  "metadata": {
    "colab": {
      "provenance": [],
      "authorship_tag": "ABX9TyPM4iwCGSw4DQZTS+uRm4uo",
      "include_colab_link": true
    },
    "kernelspec": {
      "name": "python3",
      "display_name": "Python 3"
    },
    "language_info": {
      "name": "python"
    }
  },
  "cells": [
    {
      "cell_type": "markdown",
      "metadata": {
        "id": "view-in-github",
        "colab_type": "text"
      },
      "source": [
        "<a href=\"https://colab.research.google.com/github/20A31A0523/Training/blob/main/Day_2_SLL(deletion)%2CDLL.ipynb\" target=\"_parent\"><img src=\"https://colab.research.google.com/assets/colab-badge.svg\" alt=\"Open In Colab\"/></a>"
      ]
    },
    {
      "cell_type": "markdown",
      "source": [
        "**----->SLL INSERTION AT THE GIVEN POSITION**"
      ],
      "metadata": {
        "id": "7YTTuyR397Lb"
      }
    },
    {
      "cell_type": "code",
      "source": [
        "#SLL INSERTION AT THE GIVEN POSITION\n",
        "class Node:\n",
        "  def __init__(self,data):\n",
        "    self.data=data\n",
        "    self.next=None\n",
        "class singlelinkedlist:\n",
        "  def __init__(self):\n",
        "    self.head=None\n",
        "  def insert_position(self,pos,data):\n",
        "    nb=Node(data)\n",
        "    temp=self.head\n",
        "    for i in range(pos-1):\n",
        "      temp=temp.next\n",
        "    nb.next=temp.next\n",
        "    temp.next=nb  \n",
        "  def display(self):\n",
        "    if self.head is None:\n",
        "      print(\"LL is empty.\")\n",
        "    else:\n",
        "      temp=self.head\n",
        "      while(temp):\n",
        "        print(temp.data,\"-->\",end=\" \")\n",
        "        temp=temp.next\n",
        "obj=singlelinkedlist()\n",
        "n=Node(102)\n",
        "obj.head=n\n",
        "n1=Node(202)\n",
        "n.next=n1\n",
        "n2=Node(302)\n",
        "n1.next=n2\n",
        "n3=Node(402)\n",
        "n2.next=n3\n",
        "n4=Node(502)\n",
        "n3.next=n4\n",
        "print(\"Before Inerting :\")\n",
        "obj.display()\n",
        "print(\" \")\n",
        "print(\"After Inserting :\")\n",
        "obj.insert_position(2,270)\n",
        "obj.display()"
      ],
      "metadata": {
        "colab": {
          "base_uri": "https://localhost:8080/"
        },
        "id": "1xW36rsU9_Xm",
        "outputId": "370b7d89-febf-4d4d-e642-85c019ea5a18"
      },
      "execution_count": null,
      "outputs": [
        {
          "output_type": "stream",
          "name": "stdout",
          "text": [
            "Before Inerting :\n",
            "102 --> 202 --> 302 --> 402 --> 502 -->  \n",
            "After Inserting :\n",
            "102 --> 202 --> 270 --> 302 --> 402 --> 502 --> "
          ]
        }
      ]
    },
    {
      "cell_type": "markdown",
      "source": [
        "**2.DELETION**\n",
        "\n",
        "\n",
        "*   deleting new node at the beginning\n",
        "*   deleting new node at the end\n",
        "*   deleting newnode at the given position \n",
        "\n",
        "\n",
        "\n"
      ],
      "metadata": {
        "id": "lIKvHqlc-UNA"
      }
    },
    {
      "cell_type": "markdown",
      "source": [
        "**---->SLL DELETION AT THE BEGINNING**"
      ],
      "metadata": {
        "id": "9W-7iY3z-s1M"
      }
    },
    {
      "cell_type": "code",
      "source": [
        "#SLL DELETION AT THE BEGINNING\n",
        "class Node:\n",
        "  def __init__(self,data):\n",
        "    self.data=data\n",
        "    self.next=None\n",
        "class singlelinkedlist:\n",
        "  def __init__(self):\n",
        "    self.head=None  \n",
        "  def display(self):\n",
        "    if self.head is None:\n",
        "      print(\"LL is empty.\")\n",
        "    else:\n",
        "      temp=self.head\n",
        "      while(temp):\n",
        "        print(temp.data,\"-->\",end=\" \")\n",
        "        temp=temp.next\n",
        "  def delete(self):\n",
        "    temp=self.head\n",
        "    self.head=temp.next\n",
        "    temp.next=None\n",
        "obj=singlelinkedlist()\n",
        "n=Node(102)\n",
        "obj.head=n\n",
        "n1=Node(202)\n",
        "n.next=n1\n",
        "n2=Node(302)\n",
        "n1.next=n2\n",
        "n3=Node(402)\n",
        "n2.next=n3\n",
        "n4=Node(502)\n",
        "n3.next=n4\n",
        "print(\"Before Deletion :\")\n",
        "obj.display()\n",
        "print(\" \")\n",
        "print(\"After Deletion :\")\n",
        "obj.delete()\n",
        "obj.display()"
      ],
      "metadata": {
        "colab": {
          "base_uri": "https://localhost:8080/"
        },
        "id": "MzrPomLM-xZZ",
        "outputId": "e7df551c-9833-4901-a4e3-cb7e5ddb978d"
      },
      "execution_count": null,
      "outputs": [
        {
          "output_type": "stream",
          "name": "stdout",
          "text": [
            "Before Deletion :\n",
            "102 --> 202 --> 302 --> 402 --> 502 -->  \n",
            "After Deletion :\n",
            "202 --> 302 --> 402 --> 502 --> "
          ]
        }
      ]
    },
    {
      "cell_type": "markdown",
      "source": [
        "**---->SLL DELETION AT THE END**"
      ],
      "metadata": {
        "id": "QDsTjc0v-4sD"
      }
    },
    {
      "cell_type": "code",
      "source": [
        "#SLL DELETION AT THE END\n",
        "class Node:\n",
        "  def __init__(self,data):\n",
        "    self.data=data\n",
        "    self.next=None\n",
        "class singlelinkedlist:\n",
        "  def __init__(self):\n",
        "    self.head=None  \n",
        "  def display(self):\n",
        "    if self.head is None:\n",
        "      print(\"LL is empty.\")\n",
        "    else:\n",
        "      temp=self.head\n",
        "      while(temp):\n",
        "        print(temp.data,\"-->\",end=\" \")\n",
        "        temp=temp.next\n",
        "  def delete(self):\n",
        "    temp=self.head.next\n",
        "    prev=self.head\n",
        "    while temp.next is not None:\n",
        "      temp=temp.next\n",
        "      prev=prev.next\n",
        "    prev.next=None   \n",
        "obj=singlelinkedlist()\n",
        "n=Node(102)\n",
        "obj.head=n\n",
        "n1=Node(202)\n",
        "n.next=n1\n",
        "n2=Node(302)\n",
        "n1.next=n2\n",
        "n3=Node(402)\n",
        "n2.next=n3\n",
        "n4=Node(502)\n",
        "n3.next=n4\n",
        "print(\"Before Deletion :\")\n",
        "obj.display()\n",
        "print(\" \")\n",
        "print(\"After Deletion :\")\n",
        "obj.delete()\n",
        "obj.display()"
      ],
      "metadata": {
        "colab": {
          "base_uri": "https://localhost:8080/"
        },
        "id": "IW6PqI2G-7Ss",
        "outputId": "5d8ed8c4-7463-46c9-abe1-4df81ae7b8b8"
      },
      "execution_count": null,
      "outputs": [
        {
          "output_type": "stream",
          "name": "stdout",
          "text": [
            "Before Deletion :\n",
            "102 --> 202 --> 302 --> 402 --> 502 -->  \n",
            "After Deletion :\n",
            "102 --> 202 --> 302 --> 402 --> "
          ]
        }
      ]
    },
    {
      "cell_type": "markdown",
      "source": [
        "**---->SLL DELETION AT THE GIVEN POSITION**"
      ],
      "metadata": {
        "id": "M3LjfQhA_EuO"
      }
    },
    {
      "cell_type": "code",
      "source": [
        "#SLL DELETION AT THE GIVEN POSITION\n",
        "class Node:\n",
        "  def __init__(self,data):\n",
        "    self.data=data\n",
        "    self.next=None\n",
        "class singlelinkedlist:\n",
        "  def __init__(self):\n",
        "    self.head=None\n",
        "  def display(self):\n",
        "    if self.head is None:\n",
        "      print(\"LL is empty.\")\n",
        "    else:\n",
        "      temp=self.head\n",
        "      while(temp):\n",
        "        print(temp.data,\"-->\",end=\" \")\n",
        "        temp=temp.next\n",
        "  def delete_position(self,pos):\n",
        "    temp=self.head.next\n",
        "    prev=self.head\n",
        "    for i in range(1,pos-1):\n",
        "      temp=temp.next\n",
        "      prev=prev.next\n",
        "    prev.next=temp.next\n",
        "    temp.next=None\n",
        "obj=singlelinkedlist()\n",
        "n=Node(102)\n",
        "obj.head=n\n",
        "n1=Node(202)\n",
        "n.next=n1\n",
        "n2=Node(302)\n",
        "n1.next=n2\n",
        "n3=Node(402)\n",
        "n2.next=n3\n",
        "n4=Node(502)\n",
        "n3.next=n4\n",
        "print(\"Before Deletion :\")\n",
        "obj.display()\n",
        "print(\" \")\n",
        "print(\"After Deletion :\")\n",
        "obj.delete_position(3)\n",
        "obj.display()"
      ],
      "metadata": {
        "colab": {
          "base_uri": "https://localhost:8080/"
        },
        "id": "vu1LhFcT_Jgh",
        "outputId": "2faa6874-2bee-47e0-8fad-8d08a249682e"
      },
      "execution_count": null,
      "outputs": [
        {
          "output_type": "stream",
          "name": "stdout",
          "text": [
            "Before Deletion :\n",
            "102 --> 202 --> 302 --> 402 --> 502 -->  \n",
            "After Deletion :\n",
            "102 --> 202 --> 402 --> 502 --> "
          ]
        }
      ]
    },
    {
      "cell_type": "markdown",
      "source": [
        "# DOUBLE LINKED LIST\n",
        "\n",
        "**1.IMPLEMENTATION**"
      ],
      "metadata": {
        "id": "dEpoEama_Obm"
      }
    },
    {
      "cell_type": "code",
      "source": [
        "#DOUBLE LINKED LIST IMPLEMENTATION\n",
        "class Node:\n",
        "  def __init__(self,data):\n",
        "    self.data=data\n",
        "    self.previous=None\n",
        "    self.next=None\n",
        "class dll:\n",
        "  def __init__(self):\n",
        "    self.head=None\n",
        "  def display(self):\n",
        "    if self.head is None:\n",
        "      print(\"Empty\")\n",
        "    else:\n",
        "      temp=self.head\n",
        "      while(temp):\n",
        "        print(temp.data,\"<-->\",end=\" \")\n",
        "        temp=temp.next\n",
        "obj=dll()\n",
        "n1=Node(100)\n",
        "obj.head=n1\n",
        "n2=Node(200)\n",
        "n2.prev=n1\n",
        "n1.next=n2\n",
        "n3=Node(109)\n",
        "n3.prev=n2\n",
        "n2.next=n3\n",
        "print(\"DLL Created is:\")\n",
        "obj.display()"
      ],
      "metadata": {
        "colab": {
          "base_uri": "https://localhost:8080/"
        },
        "id": "vAJSrF5C_duc",
        "outputId": "55a379b7-d991-47ed-ebbb-616ed0a39d54"
      },
      "execution_count": null,
      "outputs": [
        {
          "output_type": "stream",
          "name": "stdout",
          "text": [
            "DLL Created is:\n",
            "100 <--> 200 <--> 109 <--> "
          ]
        }
      ]
    },
    {
      "cell_type": "markdown",
      "source": [
        "# PUZZLE\n",
        "\n",
        "WRITE A PROGRAM TO GUESS A RANDOM NUMBER"
      ],
      "metadata": {
        "id": "xMQ0gl-x_jJF"
      }
    },
    {
      "cell_type": "code",
      "source": [
        "#GUESSING A NUMBER\n",
        "import random\n",
        "n=random.randrange(1,100)\n",
        "guess=int(input(\"Guess a Number :\"))\n",
        "while n!=guess:\n",
        "  if guess<n:\n",
        "    print(\"Too low\")\n",
        "    guess=int(input(\"Enter guess number:\"))\n",
        "  elif guess>n:\n",
        "    print(\"Too high\")\n",
        "    guess=int(input(\"Enter New guess:\"))\n",
        "  else:\n",
        "    break\n",
        "print(\"You guessed right bro!!\",guess)"
      ],
      "metadata": {
        "colab": {
          "base_uri": "https://localhost:8080/"
        },
        "id": "jRrtnDg2_qzK",
        "outputId": "9dfc8022-3450-45d3-cef5-4436148ac706"
      },
      "execution_count": null,
      "outputs": [
        {
          "output_type": "stream",
          "name": "stdout",
          "text": [
            "Guess a Number :40\n",
            "Too low\n",
            "Enter guess number:50\n",
            "Too low\n",
            "Enter guess number:60\n",
            "You guessed right bro!! 60\n"
          ]
        }
      ]
    },
    {
      "cell_type": "markdown",
      "source": [
        "**2.INSERTION**\n",
        "\n",
        "\n",
        "*   create a new node with 3 segments(prev,data,next)\n",
        "*   new.next=head\n",
        "*   head.previous=new\n",
        "*   new.previous=null\n",
        "*   head=newnode\n",
        "\n",
        "**INSERTION TYPES**\n",
        "\n",
        "1.Insertion at the beginning\n",
        "\n",
        "2.Insertion at the end\n",
        "\n",
        "3.Insetion at the given pposition\n",
        "\n",
        "\n",
        "\n",
        "\n",
        "\n",
        "\n",
        "\n"
      ],
      "metadata": {
        "id": "2lK7q3dp_1Ix"
      }
    },
    {
      "cell_type": "markdown",
      "source": [
        "**--->DOUBLE LINKEDLIST INSERTION IN THE BEGINNING**"
      ],
      "metadata": {
        "id": "vdN2ca20AyHy"
      }
    },
    {
      "cell_type": "code",
      "source": [
        "#DOUBLE LINKED LIST INSERTION AT THE BEGINNING\n",
        "class Node:\n",
        "  def __init__(self,data):\n",
        "    self.data=data\n",
        "    self.previous=None\n",
        "    self.next=None\n",
        "class dll:\n",
        "  def __init__(self):\n",
        "    self.head=None\n",
        "  def insert_start(self):\n",
        "    n=Node(300)\n",
        "    temp=self.head\n",
        "    temp.prev=n\n",
        "    n.next=temp\n",
        "    self.head=n\n",
        "  def display(self):\n",
        "    if self.head is None:\n",
        "      print(\"Empty\")\n",
        "    else:\n",
        "      temp=self.head\n",
        "      while(temp):\n",
        "        print(temp.data,\"<-->\",end=\" \")\n",
        "        temp=temp.next\n",
        "obj=dll()\n",
        "n1=Node(100)\n",
        "obj.head=n1\n",
        "n2=Node(200)\n",
        "n2.prev=n1\n",
        "n1.next=n2\n",
        "print(\"DLL before insertion :\")\n",
        "obj.display()\n",
        "print(\"\\nDLL after insertion at the beginning:\")\n",
        "obj.insert_start()\n",
        "obj.display()"
      ],
      "metadata": {
        "colab": {
          "base_uri": "https://localhost:8080/"
        },
        "id": "FK9PnJF5A0dC",
        "outputId": "c7024eae-2563-479b-b3b4-7f7f99cc6288"
      },
      "execution_count": null,
      "outputs": [
        {
          "output_type": "stream",
          "name": "stdout",
          "text": [
            "DLL before insertion :\n",
            "100 <--> 200 <--> \n",
            "DLL after insertion at the beginning:\n",
            "300 <--> 100 <--> 200 <--> "
          ]
        }
      ]
    },
    {
      "cell_type": "markdown",
      "source": [
        "**---->DOUBLE LINKEDLIST INSERTION AT THE END**"
      ],
      "metadata": {
        "id": "SG8CxSLIA7Op"
      }
    },
    {
      "cell_type": "code",
      "source": [
        "#INSERTION AT THE END\n",
        "class Node:\n",
        "  def __init__(self,data):\n",
        "    self.data=data\n",
        "    self.previous=None\n",
        "    self.next=None\n",
        "class dll:\n",
        "  def __init__(self):\n",
        "    self.head=None\n",
        "  def insert_end(self):\n",
        "    n=Node(300)\n",
        "    temp=self.head\n",
        "    while temp.next is not None:\n",
        "      temp=temp.next\n",
        "    temp.next=n\n",
        "    n.prev=temp\n",
        "  def display(self):\n",
        "    if self.head is None:\n",
        "      print(\"Empty\")\n",
        "    else:\n",
        "      temp=self.head\n",
        "      while(temp):\n",
        "        print(temp.data,\"<-->\",end=\" \")\n",
        "        temp=temp.next\n",
        "obj=dll()\n",
        "n1=Node(100)\n",
        "obj.head=n1\n",
        "n2=Node(200)\n",
        "n2.prev=n1\n",
        "n1.next=n2\n",
        "n3=Node(109)\n",
        "n3.prev=n2\n",
        "n2.next=n3\n",
        "print(\"DLL before insertion :\")\n",
        "obj.display()\n",
        "print(\"\\nDLL after insertion at the end:\")\n",
        "obj.insert_end()\n",
        "obj.display()"
      ],
      "metadata": {
        "colab": {
          "base_uri": "https://localhost:8080/"
        },
        "id": "7VUawO1fA99Y",
        "outputId": "03c021f6-0f5b-4d6c-c0d6-5daf337b3e5c"
      },
      "execution_count": null,
      "outputs": [
        {
          "output_type": "stream",
          "name": "stdout",
          "text": [
            "DLL before insertion :\n",
            "100 <--> 200 <--> 109 <--> \n",
            "DLL after insertion at the end:\n",
            "100 <--> 200 <--> 109 <--> 300 <--> "
          ]
        }
      ]
    },
    {
      "cell_type": "markdown",
      "source": [
        "**---->DOUBLE LINKEDLIST AT THE GIVEN POSITION**"
      ],
      "metadata": {
        "id": "He_WSNJjBE_J"
      }
    },
    {
      "cell_type": "code",
      "source": [
        "#INSERTION AT GIVEN POSITION\n",
        "class Node:\n",
        "  def __init__(self,data):\n",
        "    self.data=data\n",
        "    self.previous=None\n",
        "    self.next=None\n",
        "class dll:\n",
        "  def __init__(self):\n",
        "    self.head=None\n",
        "  def insert_pos(self,pos):\n",
        "    n=Node(300)\n",
        "    temp=self.head\n",
        "    for i in range(1,pos-1):\n",
        "      temp=temp.next\n",
        "    n.prev=temp.next\n",
        "    n.next=temp.next\n",
        "    temp.next.prev=n\n",
        "    temp.next=n\n",
        "    \n",
        "  def display(self):\n",
        "    if self.head is None:\n",
        "      print(\"Empty\")\n",
        "    else:\n",
        "      temp=self.head\n",
        "      while(temp):\n",
        "        print(temp.data,\"<-->\",end=\" \")\n",
        "        temp=temp.next\n",
        "obj=dll()\n",
        "n1=Node(100)\n",
        "obj.head=n1\n",
        "n2=Node(200)\n",
        "n2.prev=n1\n",
        "n1.next=n2\n",
        "n3=Node(109)\n",
        "n3.prev=n2\n",
        "n2.next=n3\n",
        "print(\"DLL before insertion :\")\n",
        "obj.display()\n",
        "print(\"\\nDLL after insertion at given position:\")\n",
        "obj.insert_pos(2)\n",
        "obj.display()"
      ],
      "metadata": {
        "colab": {
          "base_uri": "https://localhost:8080/"
        },
        "id": "1XCpxFxdBGx3",
        "outputId": "7e7dce79-6e14-40ce-d8d2-089821119ba5"
      },
      "execution_count": null,
      "outputs": [
        {
          "output_type": "stream",
          "name": "stdout",
          "text": [
            "DLL before insertion :\n",
            "100 <--> 200 <--> 109 <--> \n",
            "DLL after insertion at given position:\n",
            "100 <--> 300 <--> 200 <--> 109 <--> "
          ]
        }
      ]
    },
    {
      "cell_type": "markdown",
      "source": [
        "**3.DELETION**\n",
        "\n",
        "\n",
        "1.Deletion at the beginning\n",
        "\n",
        "2.Deletion at the end\n",
        "\n",
        "3.Deletion at the given pposition\n",
        " \n",
        "\n"
      ],
      "metadata": {
        "id": "eTmXzOGNBMkr"
      }
    },
    {
      "cell_type": "markdown",
      "source": [
        "**--->DOUBLE LINKEDLIST DELETION AT THE BEGINNING**\n",
        "\n",
        "\n",
        "*   temp=self.head\n",
        "*   temp.next.prev=null\n",
        "*   self.head=temp.next\n",
        "*   temp.next=null\n",
        "\n",
        "\n",
        "\n"
      ],
      "metadata": {
        "id": "zbNoJ-22Bd2R"
      }
    },
    {
      "cell_type": "code",
      "source": [
        "#DOUBLE LINKEDLIST DELETION AT THE BEGINNING\n",
        "class Node:\n",
        "  def __init__(self,data):\n",
        "    self.data=data\n",
        "    self.previous=None\n",
        "    self.next=None\n",
        "class dll:\n",
        "  def __init__(self):\n",
        "    self.head=None\n",
        "  def delete_beginning(self):\n",
        "    temp=self.head\n",
        "    temp.next.prev=None\n",
        "    self.head=temp.next\n",
        "    temp.next=None\n",
        "  def display(self):\n",
        "    if self.head is None:\n",
        "      print(\"Empty\")\n",
        "    else:\n",
        "      temp=self.head\n",
        "      while(temp):\n",
        "        print(temp.data,\"<-->\",end=\" \")\n",
        "        temp=temp.next\n",
        "obj=dll()\n",
        "n1=Node(100)\n",
        "obj.head=n1\n",
        "n2=Node(200)\n",
        "n2.prev=n1\n",
        "n1.next=n2\n",
        "n3=Node(109)\n",
        "n3.prev=n2\n",
        "n2.next=n3\n",
        "print(\"DLL before deletion :\")\n",
        "obj.display()\n",
        "print(\"\\nDLL after deletion at the beginning:\")\n",
        "obj.delete_beginning()\n",
        "obj.display()"
      ],
      "metadata": {
        "colab": {
          "base_uri": "https://localhost:8080/"
        },
        "id": "uy5H9tgoB2Ca",
        "outputId": "b5fb5198-e31e-4d58-9dd6-954dd7bf1863"
      },
      "execution_count": null,
      "outputs": [
        {
          "output_type": "stream",
          "name": "stdout",
          "text": [
            "DLL before deletion :\n",
            "100 <--> 200 <--> 109 <--> \n",
            "DLL after deletion at the beginning:\n",
            "200 <--> 109 <--> "
          ]
        }
      ]
    },
    {
      "cell_type": "markdown",
      "source": [
        "**--->DOUBLE LINKEDLIST DELETION AT THE END**"
      ],
      "metadata": {
        "id": "n4BIkvwUB7e-"
      }
    },
    {
      "cell_type": "code",
      "source": [
        "#DOUBLE LINKEDLIST DELETION AT THE BEGINNING\n",
        "class Node:\n",
        "  def __init__(self,data):\n",
        "    self.data=data\n",
        "    self.previous=None\n",
        "    self.next=None\n",
        "class dll:\n",
        "  def __init__(self):\n",
        "    self.head=None\n",
        "  def delete_end(self):\n",
        "    temp=self.head\n",
        "    while temp.next is not None:\n",
        "      temp=temp.next\n",
        "      temp.next.prev=None\n",
        "      temp.next=None\n",
        "     \n",
        "  def display(self):\n",
        "    if self.head is None:\n",
        "      print(\"Empty\")\n",
        "    else:\n",
        "      temp=self.head\n",
        "      while(temp):\n",
        "        print(temp.data,\"<-->\",end=\" \")\n",
        "        temp=temp.next\n",
        "obj=dll()\n",
        "n1=Node(100)\n",
        "obj.head=n1\n",
        "n2=Node(200)\n",
        "n2.prev=n1\n",
        "n1.next=n2\n",
        "n3=Node(109)\n",
        "n3.prev=n2\n",
        "n2.next=n3\n",
        "print(\"DLL before deletion :\")\n",
        "obj.display()\n",
        "print(\"\\nDLL after deletion at the end:\")\n",
        "obj.delete_end()\n",
        "obj.display()"
      ],
      "metadata": {
        "colab": {
          "base_uri": "https://localhost:8080/"
        },
        "id": "tW-L-7iSB__Z",
        "outputId": "0cd17817-eee2-496d-a229-9cf36012dfdd"
      },
      "execution_count": null,
      "outputs": [
        {
          "output_type": "stream",
          "name": "stdout",
          "text": [
            "DLL before deletion :\n",
            "100 <--> 200 <--> 109 <--> \n",
            "DLL after deletion at the end:\n",
            "100 <--> 200 <--> "
          ]
        }
      ]
    },
    {
      "cell_type": "markdown",
      "source": [
        "# CIRCULAR LINKEDLIST"
      ],
      "metadata": {
        "id": "eQKeOgprCGNi"
      }
    },
    {
      "cell_type": "code",
      "source": [
        "#CIRCULAR LINKEDLIST\n",
        "class Node:\n",
        "  def __init__(self,data):\n",
        "    self.data=data\n",
        "    self.next=None\n",
        "class CreateList:\n",
        "  def __init__(self):\n",
        "    self.head=Node(None)\n",
        "    self.tail=Node(None)\n",
        "    self.head.next=self.tail\n",
        "    self.tail.next=self.head\n",
        "  def add(self,data):\n",
        "    newNode=Node(data)\n",
        "    if self.head is None:\n",
        "      self.head=newNode\n",
        "      self.tail=newNode\n",
        "      newNode.next=self.head\n",
        "    else:\n",
        "      self.tail.next=newNode\n",
        "      self.tail=newNode\n",
        "      self.tail.next=self.head\n",
        "  def display(self):\n",
        "    current=self.head\n",
        "    if self.head is None:\n",
        "      print(\"List is empty\")\n",
        "      return\n",
        "    else:\n",
        "      print(\"Nodes of the circular Linked list:\")\n",
        "      print(current.data,\"-->\")\n",
        "      while(current.next!=self.head):\n",
        "        current=current.next\n",
        "        print(current.data,\"-->\")\n",
        "class CircularLinkedList:\n",
        "  cl=CreateList()\n",
        "  cl.add(\"m\")\n",
        "  cl.add(\"o\")\n",
        "  cl.add(\"u\")\n",
        "  cl.add(\"u\")\n",
        "  cl.display()     "
      ],
      "metadata": {
        "id": "MqZmQ0oeCMwh",
        "outputId": "4d65db38-c431-4bc7-ec67-facf95f009a7",
        "colab": {
          "base_uri": "https://localhost:8080/"
        }
      },
      "execution_count": null,
      "outputs": [
        {
          "output_type": "stream",
          "name": "stdout",
          "text": [
            "Nodes of the circular Linked list:\n",
            "None -->\n",
            "None -->\n",
            "m -->\n",
            "o -->\n",
            "u -->\n",
            "u -->\n"
          ]
        }
      ]
    }
  ]
}