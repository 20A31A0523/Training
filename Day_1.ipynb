{
  "nbformat": 4,
  "nbformat_minor": 0,
  "metadata": {
    "colab": {
      "provenance": [],
      "authorship_tag": "ABX9TyOxEzDO7zunELhEBf9q/nql",
      "include_colab_link": true
    },
    "kernelspec": {
      "name": "python3",
      "display_name": "Python 3"
    },
    "language_info": {
      "name": "python"
    }
  },
  "cells": [
    {
      "cell_type": "markdown",
      "metadata": {
        "id": "view-in-github",
        "colab_type": "text"
      },
      "source": [
        "<a href=\"https://colab.research.google.com/github/20A31A0523/Training/blob/main/Day_1.ipynb\" target=\"_parent\"><img src=\"https://colab.research.google.com/assets/colab-badge.svg\" alt=\"Open In Colab\"/></a>"
      ]
    },
    {
      "cell_type": "markdown",
      "source": [
        "#oops\n",
        "1.class variables can be accessed inside the methods using keyword \"self\".                                                                                                      \n",
        "2.instance variable can be accessed outside the class using object_name        variable_name.                                                                                               \n",
        "3.variables inside methods are having local scope we cannot access the     outside the class ."
      ],
      "metadata": {
        "id": "boIJn9SKN2Oj"
      }
    },
    {
      "cell_type": "code",
      "source": [
        "#How to create a class and object\n",
        "class sad:\n",
        "  a=100\n",
        "  def method(self):\n",
        "    b=14\n",
        "    print(self.a)\n",
        "    print(b)\n",
        "obj=sad()\n",
        "print(obj.a)\n",
        "obj.method()"
      ],
      "metadata": {
        "colab": {
          "base_uri": "https://localhost:8080/"
        },
        "id": "KFCPKlaqOtX8",
        "outputId": "e36508af-6f30-409e-b7fb-9d21f3147861"
      },
      "execution_count": null,
      "outputs": [
        {
          "output_type": "stream",
          "name": "stdout",
          "text": [
            "100\n",
            "100\n",
            "14\n"
          ]
        }
      ]
    },
    {
      "cell_type": "markdown",
      "source": [
        "#Encapsulation\n",
        "It provides data security\n",
        "\n",
        "   1.public\n",
        "\n",
        "   2.private\n",
        "\n",
        "   3.protected"
      ],
      "metadata": {
        "id": "ZJEn92uWPv5c"
      }
    },
    {
      "cell_type": "code",
      "source": [
        "#Protected\n",
        "class encap:\n",
        "  _a=10\n",
        "  c=20\n",
        "  def encapfunction(self):\n",
        "    _b=200\n",
        "    print(\"encap function-accessing protected:\")\n",
        "    print(self._a+10)\n",
        "obj=encap()\n",
        "print(obj._a)\n",
        "obj.encapfunction()\n",
        "print(obj.c)"
      ],
      "metadata": {
        "colab": {
          "base_uri": "https://localhost:8080/"
        },
        "id": "Z7NKEGo8Risj",
        "outputId": "6af134fe-dcbd-4314-f3ed-9b63db0c4967"
      },
      "execution_count": null,
      "outputs": [
        {
          "output_type": "stream",
          "name": "stdout",
          "text": [
            "10\n",
            "encap function-accessing protected:\n",
            "20\n",
            "20\n"
          ]
        }
      ]
    },
    {
      "cell_type": "code",
      "source": [
        "#Private----> writing a variable with __(double underscore)\n",
        "class encap:\n",
        "  __a=10\n",
        "  print(__a)\n",
        "  def encapfunction(self):\n",
        "    print(\"encap function\")\n",
        "    print(self.__a)\n",
        "obj=encap()\n",
        "obj.encapfunction()\n",
        "print(obj.__a)"
      ],
      "metadata": {
        "id": "jLRiWPddUh-M"
      },
      "execution_count": null,
      "outputs": []
    },
    {
      "cell_type": "markdown",
      "source": [
        "# DATA STRUCTURES\n",
        "\n",
        "In order to structurize the data to keep it effecient in terms of memory usage, extracting information is called data structures.\n",
        "\n",
        "Types of data structures:\n",
        "\n",
        "\n",
        "\n",
        "*   LINEAR\n",
        "          1.static ---> array\n",
        "          2.dynamic ---> list,static,queue\n",
        "*   NON LINEAR\n",
        "          1.graph ---> stack\n",
        "                  ---> queue\n",
        "          2.tree\n",
        "\n",
        "\n"
      ],
      "metadata": {
        "id": "xXqGBWniZBUF"
      }
    },
    {
      "cell_type": "markdown",
      "source": [
        "#linked list\n",
        "List of data or items being linked with one another is called as linked list. \n",
        "\n",
        "examples: spotify\n",
        "\n"
      ],
      "metadata": {
        "id": "D0gvU062geEl"
      }
    },
    {
      "cell_type": "code",
      "source": [
        "x=200\n",
        "print(id(x))"
      ],
      "metadata": {
        "colab": {
          "base_uri": "https://localhost:8080/"
        },
        "id": "JtV3_1ZoiEZd",
        "outputId": "fdc7ed61-f5f0-40a8-f358-5816160071a1"
      },
      "execution_count": null,
      "outputs": [
        {
          "output_type": "stream",
          "name": "stdout",
          "text": [
            "9799456\n"
          ]
        }
      ]
    },
    {
      "cell_type": "code",
      "source": [
        "#Single linked list\n",
        "class node:\n",
        "  def __init__(self,data):\n",
        "    self.data=data\n",
        "    self.next=None\n",
        "class SLL:\n",
        "  def __init__(self):\n",
        "    self.head=None\n",
        "  def display(self):\n",
        "    if self.head is None:\n",
        "      print(\"LL is empty\")\n",
        "    else:\n",
        "      temp=self.head\n",
        "      while(temp):\n",
        "        print(temp.data,\"--->\",end='')\n",
        "        temp=temp.next\n",
        "obj=SLL()\n",
        "n1=node(100)\n",
        "obj.head=n1\n",
        "n2=node(200)\n",
        "obj.head.next=n2\n",
        "n3=node(300)\n",
        "n2.next=n3\n",
        "print(obj.display())"
      ],
      "metadata": {
        "colab": {
          "base_uri": "https://localhost:8080/"
        },
        "id": "9jrVkvMF3qeB",
        "outputId": "116ca437-2cae-4754-e73a-ec9e8d8a779b"
      },
      "execution_count": 3,
      "outputs": [
        {
          "output_type": "stream",
          "name": "stdout",
          "text": [
            "100 --->200 --->300 --->None\n"
          ]
        }
      ]
    },
    {
      "cell_type": "markdown",
      "source": [
        "SINGLE LINKED LIST OPERATIONS\n",
        "\n",
        "1.insertion:\n",
        "\n",
        "\n",
        "*   inserting new node at the beginning\n",
        "*   inserting new node at the end \n",
        "*   inserting new node at the given position"
      ],
      "metadata": {
        "id": "epdxbWoFKHb1"
      }
    },
    {
      "cell_type": "markdown",
      "source": [
        "--> INSERTION AT THE BEGINNING\n",
        "\n",
        "*   create new node which you want to insert\n",
        "*   make the new node point to current point head node\n",
        "*   make your new node as head node\n",
        "\n",
        "\n"
      ],
      "metadata": {
        "id": "VtFStOJkLwwd"
      }
    },
    {
      "cell_type": "code",
      "source": [
        "#SLL INSERTION AT THE BEGINNING\n",
        "class Node: \n",
        "  def __init__(self,data):\n",
        "    self.data=data\n",
        "    self.next=None\n",
        "class singlelinkedlist:\n",
        "  def __init__(self):\n",
        "    self.head=None   \n",
        "  def insert_beginning(self,data):\n",
        "    nb=Node(data)\n",
        "    nb.next=self.head\n",
        "    self.head=nb\n",
        "  def display(self):\n",
        "    if self.head is None:\n",
        "      print(\"LL is empty\")\n",
        "    else:\n",
        "      temp=self.head\n",
        "      while(temp):\n",
        "        print(temp.data,\"--->\",end='')\n",
        "        temp=temp.next\n",
        "obj=singlelinkedlist()\n",
        "n=Node(10)\n",
        "obj.head=n\n",
        "n1=Node(20)\n",
        "n.next=n1\n",
        "n2=Node(30)\n",
        "n1.next=n2\n",
        "n3=Node(40)\n",
        "n2.next=n3\n",
        "n4=Node(50)\n",
        "n3.next=n4\n",
        "print(\"before inserting 100\")\n",
        "obj.display()\n",
        "print(\"\")\n",
        "print(\"after inserting 100\")\n",
        "obj.insert_beginning(100)\n",
        "obj.display()\n",
        "print(\"\")\n",
        "print(\"after inserting 555\")\n",
        "obj.insert_beginning(555)\n",
        "obj.display()"
      ],
      "metadata": {
        "colab": {
          "base_uri": "https://localhost:8080/"
        },
        "id": "4uzrnRELM8ZV",
        "outputId": "f894cc4a-cb4c-49ff-aa97-a890e021edf6"
      },
      "execution_count": 6,
      "outputs": [
        {
          "output_type": "stream",
          "name": "stdout",
          "text": [
            "before inserting 100\n",
            "10 --->20 --->30 --->40 --->50 --->\n",
            "after inserting 100\n",
            "100 --->10 --->20 --->30 --->40 --->50 --->\n",
            "after inserting 555\n",
            "555 --->100 --->10 --->20 --->30 --->40 --->50 --->"
          ]
        }
      ]
    },
    {
      "cell_type": "markdown",
      "source": [
        "--> INSERTION AT THE END\n"
      ],
      "metadata": {
        "id": "9rqaV2-pXrFN"
      }
    },
    {
      "cell_type": "code",
      "source": [
        "#SLL INSERTION AT THE END\n",
        "class Node: \n",
        "  def __init__(self,data):\n",
        "    self.data=data\n",
        "    self.next=None\n",
        "class singlelinkedlist:\n",
        "  def __init__(self):\n",
        "    self.head=None   \n",
        "  def insert_end(self,data):\n",
        "    ne=Node(data)\n",
        "    temp=self.head\n",
        "    while temp.next:\n",
        "      temp=temp.next\n",
        "    temp.next=ne\n",
        "  def display(self):\n",
        "    if self.head is None:\n",
        "      print(\"LL is empty\")\n",
        "    else:\n",
        "      temp=self.head\n",
        "      while(temp):\n",
        "        print(temp.data,\"--->\",end='')\n",
        "        temp=temp.next\n",
        "obj=singlelinkedlist()\n",
        "n=Node(10)\n",
        "obj.head=n\n",
        "n1=Node(20)\n",
        "n.next=n1\n",
        "n2=Node(30)\n",
        "n1.next=n2\n",
        "n3=Node(40)\n",
        "n2.next=n3\n",
        "n4=Node(50)\n",
        "n3.next=n4\n",
        "print(\"before inserting 100\")\n",
        "obj.display()\n",
        "print(\"\")\n",
        "print(\"after inserting 100\")\n",
        "obj.insert_end(100)\n",
        "obj.display()\n",
        "print(\"\")\n",
        "print(\"after inserting 555\")\n",
        "obj.insert_end(555)\n",
        "obj.display()"
      ],
      "metadata": {
        "colab": {
          "base_uri": "https://localhost:8080/"
        },
        "id": "2O13V6qrYBod",
        "outputId": "4b72b6e7-d6bc-4b29-d4c8-c02feca84be8"
      },
      "execution_count": 7,
      "outputs": [
        {
          "output_type": "stream",
          "name": "stdout",
          "text": [
            "before inserting 100\n",
            "10 --->20 --->30 --->40 --->50 --->\n",
            "after inserting 100\n",
            "10 --->20 --->30 --->40 --->50 --->100 --->\n",
            "after inserting 555\n",
            "10 --->20 --->30 --->40 --->50 --->100 --->555 --->"
          ]
        }
      ]
    }
  ]
}