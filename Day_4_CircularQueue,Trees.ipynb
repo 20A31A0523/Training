{
  "nbformat": 4,
  "nbformat_minor": 0,
  "metadata": {
    "colab": {
      "provenance": [],
      "authorship_tag": "ABX9TyMKriiCkaNH0JW9KJJ+zOSQ",
      "include_colab_link": true
    },
    "kernelspec": {
      "name": "python3",
      "display_name": "Python 3"
    },
    "language_info": {
      "name": "python"
    }
  },
  "cells": [
    {
      "cell_type": "markdown",
      "metadata": {
        "id": "view-in-github",
        "colab_type": "text"
      },
      "source": [
        "<a href=\"https://colab.research.google.com/github/20A31A0523/Training/blob/main/Day_4_CircularQueue%2CTrees.ipynb\" target=\"_parent\"><img src=\"https://colab.research.google.com/assets/colab-badge.svg\" alt=\"Open In Colab\"/></a>"
      ]
    },
    {
      "cell_type": "code",
      "source": [
        "#list(map())\n",
        "a=list(map(int,input().split()))\n",
        "sum=0\n",
        "for i in a:\n",
        "  print(i,end=\" \")\n",
        "  sum=sum+i\n",
        "print(\"\\nsum:\",sum)"
      ],
      "metadata": {
        "colab": {
          "base_uri": "https://localhost:8080/"
        },
        "id": "1vX3puXLrc4z",
        "outputId": "5c97333c-55ad-4337-8966-a1f812c66e12"
      },
      "execution_count": null,
      "outputs": [
        {
          "output_type": "stream",
          "name": "stdout",
          "text": [
            "1 2 3 4 5\n",
            "1 2 3 4 5 \n",
            "sum: 15\n"
          ]
        }
      ]
    },
    {
      "cell_type": "code",
      "source": [
        "#map()------another form\n",
        "n=int(input())\n",
        "a=list(map(int,input().split()))[n:]        #add the numbers which are given after the size\n",
        "sum=0\n",
        "for i in a:\n",
        "  print(i,end=\" \")\n",
        "  sum=sum+i\n",
        "print(\"\\nsum:\",sum)\n"
      ],
      "metadata": {
        "colab": {
          "base_uri": "https://localhost:8080/"
        },
        "id": "M4UE2Vdet6mD",
        "outputId": "945bf2c6-9813-4c40-ecf7-72b83b0b3584"
      },
      "execution_count": null,
      "outputs": [
        {
          "output_type": "stream",
          "name": "stdout",
          "text": [
            "4\n",
            "1 2 3 5 6 4\n",
            "6 4 \n",
            "sum: 10\n"
          ]
        }
      ]
    },
    {
      "cell_type": "markdown",
      "source": [
        "**-->CIRCULAR QUEUE IMPLEMENTATION**\n",
        "\n",
        "\n",
        "\n",
        "*   With linear queue empty spaces which we get after performing dequeue operations \n",
        "cannot be used.However it is very much possible when we make that linear queue as circulsr queue.\n",
        "*  This is the advantage of circular queue\n",
        "\n",
        "\n",
        "\n"
      ],
      "metadata": {
        "id": "hAkdZ_aYvkFS"
      }
    },
    {
      "cell_type": "markdown",
      "source": [
        "**#Findout when rear will be greater than front in circular queue?**"
      ],
      "metadata": {
        "id": "PLOWsEmv1Aoj"
      }
    },
    {
      "cell_type": "code",
      "source": [
        "#CIRCULAR QUEUE IMPLEMENTATION\n",
        "class CircularQueue():\n",
        "  def __init__(self,size):                    #initializing the class\n",
        "    self.size=size\n",
        "    self.queue=[None for i in range(size)]    #can use self.queue[None]*size\n",
        "    self.front=self.rear=-1\n",
        "  def enqueue(self,data):\n",
        "    if((self.rear+1)%self.size==self.front):  #condition to check if queue is full\n",
        "      print(\"Queue is full\\n\")\n",
        "    elif(self.front==-1):                     #condition for empty queue\n",
        "      self.front=0\n",
        "      self.rear=0\n",
        "      self.queue[self.rear]=data\n",
        "    else:\n",
        "      self.rear=(self.rear+1)%self.size\n",
        "      self.queue[self.rear]=data\n",
        "  def dequeue(self):                          \n",
        "    if(self.front==-1):\n",
        "      print(\"Queue is empty\\n\")\n",
        "    elif(self.front==self.rear):\n",
        "      temp=self.queue[self.front]\n",
        "      self.front=-1\n",
        "      self.rear=-1\n",
        "      return temp\n",
        "    else:\n",
        "      temp=self.queue[self.front]\n",
        "      self.front=(self.front+1)%self.size\n",
        "      return temp\n",
        "  def display(self):\n",
        "    if(self.front==-1):\n",
        "      print(\"Queue is empty\")\n",
        "    elif(self.rear>=self.front):\n",
        "      print(\"Element in the circular queue:\",end=\" \")\n",
        "      for i in range(self.front,self.rear+1):\n",
        "        print(self.queue[i],end=\" \")\n",
        "        print()\n",
        "      else:\n",
        "         print(\"Element in the circular queue:\",end=\" \")\n",
        "         for i in range(self.front,self.size):\n",
        "           print(self.queue[i],end=\" \")\n",
        "         for i in range(self.front,self.rear+1):\n",
        "           print(self.queue[i],end=\" \")\n",
        "      if(self.rear+1)%self.size==self.front:\n",
        "        print(\"\\nQueue is full\")\n",
        "ob=CircularQueue(5)\n",
        "ob.enqueue(14)\n",
        "ob.enqueue(22)\n",
        "ob.enqueue(13)\n",
        "ob.enqueue(-6)\n",
        "ob.display()\n",
        "print(\"\\nDeleted value:\",ob.dequeue())\n",
        "print(\"\\nDeleted value:\",ob.dequeue())\n",
        "ob.display()\n",
        "ob.enqueue(9)\n",
        "ob.enqueue(20)\n",
        "ob.enqueue(5)\n",
        "ob.display()\n",
        "ob.enqueue(100)"
      ],
      "metadata": {
        "colab": {
          "base_uri": "https://localhost:8080/"
        },
        "id": "xfbqQGjivtXR",
        "outputId": "8e482f5b-54c1-4e70-9bfc-bc86d933a367"
      },
      "execution_count": null,
      "outputs": [
        {
          "output_type": "stream",
          "name": "stdout",
          "text": [
            "Element in the circular queue: 14 \n",
            "22 \n",
            "13 \n",
            "-6 \n",
            "Element in the circular queue: 14 22 13 -6 None 14 22 13 -6 \n",
            "Deleted value: 14\n",
            "\n",
            "Deleted value: 22\n",
            "Element in the circular queue: 13 \n",
            "-6 \n",
            "Element in the circular queue: 13 -6 None 13 -6 Queue is full\n",
            "\n"
          ]
        }
      ]
    },
    {
      "cell_type": "markdown",
      "source": [
        "##TREE\n",
        "* In a tree, nodes can have 'n' number of children.\n",
        "\n",
        "* Here, height of the tree is calculated from bottom i.e count of levels from bottom\n",
        "\n",
        "* depth of the tree is calculated from top i.e count of levels from top\n",
        "\n",
        "* rootnode has depth of 0\n",
        "\n",
        "* leafnode has height of 0\n",
        " \n",
        "**TYPES OF TREES:**\n",
        "\n",
        "1.Binary tree:\n",
        "\n",
        "  * A node can have maximum two children.\n",
        "  * We have to traverse level by level starting proceeding from left to right"
      ],
      "metadata": {
        "id": "AaAa1Jh5mR4X"
      }
    },
    {
      "cell_type": "markdown",
      "source": [
        "### **TYPES OF TREE TRAVERSAL**\n",
        "\n",
        "* BFS \n",
        "  \n",
        "    * Also called as Breadth First Search\n",
        "    * Or level Order Traversal\n",
        "* DFS\n",
        "\n",
        "    * called as Depth First Search\n",
        "    * There are 3 types of DFS:\n",
        "        \n",
        "        ->PreOrder traversal     (root-->left-->right)\n",
        "        \n",
        "        ->InOrder traversal      (left-->root-->right)\n",
        "\n",
        "        ->PostOrder traversal    (left-->right-->root)"
      ],
      "metadata": {
        "id": "3E9fs4HDwGrk"
      }
    },
    {
      "cell_type": "markdown",
      "source": [
        "**-->BINARY TREE IMPLEMENTATION**"
      ],
      "metadata": {
        "id": "AF60lxTupkiM"
      }
    },
    {
      "cell_type": "code",
      "source": [
        "#BINARY TREE IMPLEMENTATION\n",
        "class BinaryTreeNode:\n",
        "  def __init__(self,data):\n",
        "    self.data=data\n",
        "    self.leftChild=None\n",
        "    self.rightChild=None\n",
        "node1=BinaryTreeNode(40)\n",
        "node2=BinaryTreeNode(20)\n",
        "node3=BinaryTreeNode(50)\n",
        "node4=BinaryTreeNode(11)\n",
        "node5=BinaryTreeNode(14)\n",
        "node6=BinaryTreeNode(7)\n",
        "node7=BinaryTreeNode(43)\n",
        "\n",
        "node1.leftChild=node2\n",
        "node1.rightChild=node3\n",
        "node2.leftChild=node4\n",
        "node2.rightChild=node5\n",
        "node3.leftChild=node6\n",
        "node3.rightChild=node7\n",
        "\n",
        "print(\"Root node is:\")\n",
        "print(node1.data)\n",
        "print(\"LeftChild of node1 is:\")\n",
        "print(node1.leftChild.data)\n",
        "print(\"RightChild of node1 is:\")\n",
        "print(node1.rightChild.data)\n",
        "print(\"Last node is:\")\n",
        "print(node7.data)"
      ],
      "metadata": {
        "colab": {
          "base_uri": "https://localhost:8080/"
        },
        "id": "3RDtcvw8psCT",
        "outputId": "35442df1-4f10-4ad8-9b56-81ee0842de3f"
      },
      "execution_count": null,
      "outputs": [
        {
          "output_type": "stream",
          "name": "stdout",
          "text": [
            "Root node is:\n",
            "40\n",
            "LeftChild of node1 is:\n",
            "20\n",
            "RightChild of node1 is:\n",
            "50\n",
            "Last node is:\n",
            "43\n"
          ]
        }
      ]
    },
    {
      "cell_type": "markdown",
      "source": [
        "**-->BINARY TREE INSERTION**\n",
        "\n",
        "- We will do level order traversal till we find an empty space.\n",
        "-In that empty space, we insert new node"
      ],
      "metadata": {
        "id": "aq4d6nVOuOnN"
      }
    },
    {
      "cell_type": "code",
      "source": [
        "#BINARY TREE INSERTION\n",
        "class newnode():\n",
        "  def __init__(self,data):\n",
        "    self.key=data\n",
        "    self.left=None\n",
        "    self.right=None\n",
        "def inorder(temp):\n",
        "  if(not temp):\n",
        "    return\n",
        "  inorder(temp.left)\n",
        "  print(temp.key,end=\" \")\n",
        "  inorder(temp.right)\n",
        "def insert(temp,key):\n",
        "  if not temp:\n",
        "    root=newnode(key)\n",
        "    return\n",
        "  q=[]\n",
        "  q.append(temp)\n",
        "  print(type(q))\n",
        "  print(len(q))\n",
        "  while(len(q)):\n",
        "    print(len(q))\n",
        "    temp=q[0]\n",
        "    q.pop(0)\n",
        "    if(not temp.left):\n",
        "      temp.left=newnode(key)\n",
        "      break\n",
        "    else:\n",
        "      q.append(temp.left)\n",
        "    if(not temp.right):\n",
        "      temp.right=newnode(key)\n",
        "      break\n",
        "    else:\n",
        "      q.append(temp.right)\n",
        "if __name__==\"__main__\":\n",
        "  root=newnode(10)\n",
        "  root.left=newnode(11)\n",
        "  root.left.left=newnode(7)\n",
        "  root.right=newnode(9)\n",
        "  root.right.left=newnode(15)\n",
        "  root.right.right=newnode(8)\n",
        "  print(\"Inorder traversal before insertion:\",end=\" \")\n",
        "  inorder(root)\n",
        "  key=12\n",
        "  insert(root,key)\n",
        "  print()\n",
        "  print(\"Inorder traversal after insertion:\",end=\" \")\n",
        "  inorder(root)"
      ],
      "metadata": {
        "colab": {
          "base_uri": "https://localhost:8080/"
        },
        "id": "pC_CbQfuxQGT",
        "outputId": "07dfafa9-b074-47b5-98f2-d3fa897bd4a5"
      },
      "execution_count": null,
      "outputs": [
        {
          "output_type": "stream",
          "name": "stdout",
          "text": [
            "Inorder traversal before insertion: 7 11 10 15 9 8 <class 'list'>\n",
            "1\n",
            "1\n",
            "2\n",
            "\n",
            "Inorder traversal after insertion: 7 11 12 10 15 9 8 "
          ]
        }
      ]
    },
    {
      "cell_type": "markdown",
      "source": [
        "**-->PREORDER,INORDER,POSTORDER**"
      ],
      "metadata": {
        "id": "9lODkSU0AleF"
      }
    },
    {
      "cell_type": "code",
      "source": [
        "#PREORDER,INORDER,POSTORDER\n",
        "class Node:\n",
        "  def __init__(self,key):\n",
        "    self.left=None\n",
        "    self.right=None\n",
        "    self.val=key\n",
        "def printInorder(root):\n",
        "  if root:\n",
        "    printInorder(root.left)\n",
        "    print(root.val,end=\" \")\n",
        "    printInorder(root.right)\n",
        "def printPostorder(root):\n",
        "  if root:\n",
        "    printPostorder(root.left)\n",
        "    printPostorder(root.right)\n",
        "    print(root.val,end=\" \")\n",
        "def printPreorder(root):\n",
        "  if root:\n",
        "    print(root.val,end=\" \")\n",
        "    printPreorder(root.left)\n",
        "    printPreorder(root.right)\n",
        "root=Node(1)\n",
        "root.left=Node(2)\n",
        "root.right=Node(3)\n",
        "root.left.left=Node(4)\n",
        "root.left.right=Node(5)\n",
        "print(\"Preorder traversal:\")\n",
        "printPreorder(root)\n",
        "print()\n",
        "print(\"\\nInorder traversal:\")\n",
        "printInorder(root)\n",
        "print()\n",
        "print(\"\\nPostorder traversal:\")\n",
        "printPostorder(root)\n",
        "print()\n"
      ],
      "metadata": {
        "colab": {
          "base_uri": "https://localhost:8080/"
        },
        "id": "jgcPqzuU_ig0",
        "outputId": "aaaf001c-f7cc-4ce5-a2bd-9204b0e02d00"
      },
      "execution_count": null,
      "outputs": [
        {
          "output_type": "stream",
          "name": "stdout",
          "text": [
            "Preorder traversal:\n",
            "1 2 4 5 3 \n",
            "\n",
            "Inorder traversal:\n",
            "4 2 5 1 3 \n",
            "\n",
            "Postorder traversal:\n",
            "4 5 2 3 1 \n"
          ]
        }
      ]
    }
  ]
}